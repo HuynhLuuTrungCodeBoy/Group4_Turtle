{
 "cells": [
  {
   "cell_type": "markdown",
   "id": "07ab6fc0-9ac2-4d78-9d82-bfd3e67c6e76",
   "metadata": {},
   "source": [
    "# Lã Phương Anh"
   ]
  },
  {
   "cell_type": "markdown",
   "id": "c70ca29b-9155-4ad5-9e28-fafc98970731",
   "metadata": {},
   "source": [
    "### Nội dung trình bày:"
   ]
  },
  {
   "cell_type": "markdown",
   "id": "95b72350-517a-4385-ba0c-bd35478cac09",
   "metadata": {},
   "source": [
    "##### Cài đặt Turtle module"
   ]
  },
  {
   "cell_type": "markdown",
   "id": "aced022f-210f-4baf-96c7-28f7893c05b5",
   "metadata": {},
   "source": [
    "##### Import Turtle module"
   ]
  },
  {
   "cell_type": "markdown",
   "id": "fb55f9eb-40e6-4c7f-a993-1d93b6a077dd",
   "metadata": {},
   "source": [
    "# Đặng Long"
   ]
  },
  {
   "cell_type": "markdown",
   "id": "a17cc845-984a-4dab-98fe-26dacc0390e5",
   "metadata": {},
   "source": [
    "### Nội dung trình bày: Chủ đề config con trỏ"
   ]
  },
  {
   "cell_type": "markdown",
   "id": "2ab9c920-8c2d-41b2-9674-96bd2f95f5cd",
   "metadata": {},
   "source": [
    "##### Thay đổi hình dạng con trỏ."
   ]
  },
  {
   "cell_type": "markdown",
   "id": "cb7fdde8-ce62-48c0-a3ca-c4ca3ffc55d4",
   "metadata": {},
   "source": [
    "##### Thay đổi tốc độ con trỏ."
   ]
  },
  {
   "cell_type": "markdown",
   "id": "5a5bd2bd-134a-4d51-8718-7604cb48af7d",
   "metadata": {},
   "source": [
    "##### Dổi độ rộng bút vẽ."
   ]
  },
  {
   "cell_type": "markdown",
   "id": "f7e3bb38-4212-47a3-94ea-885df27773c1",
   "metadata": {},
   "source": [
    "##### Đổi màu viền."
   ]
  },
  {
   "cell_type": "markdown",
   "id": "da6e990d-f272-4155-9654-3b1d3e23122e",
   "metadata": {},
   "source": [
    "##### Đổi màu tô."
   ]
  },
  {
   "cell_type": "markdown",
   "id": "c87a0f8a-3416-4a24-8891-1e81f523a613",
   "metadata": {},
   "source": [
    "##### Ẩn con trỏ."
   ]
  },
  {
   "cell_type": "markdown",
   "id": "497df51f-3c41-4bfe-b892-fb236d21cfae",
   "metadata": {},
   "source": [
    "##### Hiện con trỏ."
   ]
  },
  {
   "cell_type": "markdown",
   "id": "cb02515b-6fe8-4c72-b519-bc1e75d541ad",
   "metadata": {},
   "source": [
    "##### ..."
   ]
  },
  {
   "cell_type": "markdown",
   "id": "ec0e239d-7377-4e6b-86fd-06bf69506f35",
   "metadata": {},
   "source": [
    "##### Đặt cấu hình con trỏ về mặc định."
   ]
  },
  {
   "cell_type": "markdown",
   "id": "87e4cf94-48f5-4206-b0bb-49613221765f",
   "metadata": {},
   "source": [
    "# Nguyễn Mạnh Dũng"
   ]
  },
  {
   "cell_type": "markdown",
   "id": "a58b8512-ce41-4141-8566-dfa62b65e661",
   "metadata": {},
   "source": [
    "### Nội dung trình bày:"
   ]
  },
  {
   "cell_type": "markdown",
   "id": "17bf3db0-c04b-4ceb-bd6e-6e002829dbfa",
   "metadata": {},
   "source": [
    "##### Tạo 1 đối tượng kiểu turtle."
   ]
  },
  {
   "cell_type": "markdown",
   "id": "1f2c4495-c217-4111-b737-6f23c19ffab3",
   "metadata": {},
   "source": [
    "##### Nhấc bút lên."
   ]
  },
  {
   "cell_type": "markdown",
   "id": "19187aee-c916-47b5-b014-98628aad7b53",
   "metadata": {},
   "source": [
    "##### Hạ bút xuống."
   ]
  },
  {
   "cell_type": "markdown",
   "id": "b312e79b-e2a3-4ddd-84fe-d1e0df8a31a6",
   "metadata": {},
   "source": [
    "##### Di chuyển tới - lùi"
   ]
  },
  {
   "cell_type": "markdown",
   "id": "94fcf790-0e25-4b1a-97a7-b174ec5257ed",
   "metadata": {},
   "source": [
    "##### Đổi hướng trái - phải"
   ]
  },
  {
   "cell_type": "markdown",
   "id": "8a35a9c3-e97d-4676-883c-97c5f755f363",
   "metadata": {},
   "source": [
    "##### ..."
   ]
  },
  {
   "cell_type": "markdown",
   "id": "c6362a55-2077-4803-a845-3e927c71dbcf",
   "metadata": {},
   "source": [
    "##### Hiển thị kết quả"
   ]
  },
  {
   "cell_type": "markdown",
   "id": "422b73d9-02ed-4b87-8ce5-975a66cd3dc8",
   "metadata": {},
   "source": [
    "# Huỳnh Lưu Trung"
   ]
  },
  {
   "cell_type": "markdown",
   "id": "fad260b2-d008-4bc7-892b-b76164e4794d",
   "metadata": {},
   "source": [
    "### Nội dung trình bày:"
   ]
  },
  {
   "cell_type": "markdown",
   "id": "88725c5d-7755-46f8-8eae-e2906bdc3311",
   "metadata": {},
   "source": [
    "##### Vẽ ngôi nhà mơ ước"
   ]
  }
 ],
 "metadata": {
  "kernelspec": {
   "display_name": "Python 3 (ipykernel)",
   "language": "python",
   "name": "python3"
  },
  "language_info": {
   "codemirror_mode": {
    "name": "ipython",
    "version": 3
   },
   "file_extension": ".py",
   "mimetype": "text/x-python",
   "name": "python",
   "nbconvert_exporter": "python",
   "pygments_lexer": "ipython3",
   "version": "3.11.3"
  }
 },
 "nbformat": 4,
 "nbformat_minor": 5
}
