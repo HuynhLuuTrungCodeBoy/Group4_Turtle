{
 "cells": [
  {
   "cell_type": "markdown",
   "id": "81325975-5a37-409c-8476-71978c506f01",
   "metadata": {},
   "source": [
    "#### turtle.done() Bị lỗi khi chạy trên notebook, khắc phục bằng cách bấm restart the kernel (mũi tên cong kế nút vuông)"
   ]
  },
  {
   "cell_type": "markdown",
   "id": "07ab6fc0-9ac2-4d78-9d82-bfd3e67c6e76",
   "metadata": {},
   "source": [
    "# Lã Phương Anh"
   ]
  },
  {
   "cell_type": "markdown",
   "id": "c70ca29b-9155-4ad5-9e28-fafc98970731",
   "metadata": {},
   "source": [
    "### Nội dung trình bày:"
   ]
  },
  {
   "cell_type": "markdown",
   "id": "95b72350-517a-4385-ba0c-bd35478cac09",
   "metadata": {},
   "source": [
    "##### Cài đặt Turtle module"
   ]
  },
  {
   "cell_type": "markdown",
   "id": "aced022f-210f-4baf-96c7-28f7893c05b5",
   "metadata": {},
   "source": [
    "##### Import Turtle module"
   ]
  },
  {
   "cell_type": "markdown",
   "id": "fb55f9eb-40e6-4c7f-a993-1d93b6a077dd",
   "metadata": {},
   "source": [
    "# Đặng Long"
   ]
  },
  {
   "cell_type": "markdown",
   "id": "a17cc845-984a-4dab-98fe-26dacc0390e5",
   "metadata": {},
   "source": [
    "### Nội dung trình bày: Chủ đề config con trỏ"
   ]
  },
  {
   "cell_type": "markdown",
   "id": "2ab9c920-8c2d-41b2-9674-96bd2f95f5cd",
   "metadata": {},
   "source": [
    "##### Thay đổi hình dạng con trỏ."
   ]
  },
  {
   "cell_type": "markdown",
   "id": "cb7fdde8-ce62-48c0-a3ca-c4ca3ffc55d4",
   "metadata": {},
   "source": [
    "##### Thay đổi tốc độ con trỏ."
   ]
  },
  {
   "cell_type": "markdown",
   "id": "5a5bd2bd-134a-4d51-8718-7604cb48af7d",
   "metadata": {},
   "source": [
    "##### Dổi độ rộng bút vẽ."
   ]
  },
  {
   "cell_type": "markdown",
   "id": "f7e3bb38-4212-47a3-94ea-885df27773c1",
   "metadata": {},
   "source": [
    "##### Đổi màu viền."
   ]
  },
  {
   "cell_type": "markdown",
   "id": "da6e990d-f272-4155-9654-3b1d3e23122e",
   "metadata": {},
   "source": [
    "##### Đổi màu tô."
   ]
  },
  {
   "cell_type": "markdown",
   "id": "c87a0f8a-3416-4a24-8891-1e81f523a613",
   "metadata": {},
   "source": [
    "##### Ẩn con trỏ."
   ]
  },
  {
   "cell_type": "markdown",
   "id": "497df51f-3c41-4bfe-b892-fb236d21cfae",
   "metadata": {},
   "source": [
    "##### Hiện con trỏ."
   ]
  },
  {
   "cell_type": "markdown",
   "id": "cb02515b-6fe8-4c72-b519-bc1e75d541ad",
   "metadata": {},
   "source": [
    "##### ..."
   ]
  },
  {
   "cell_type": "markdown",
   "id": "ec0e239d-7377-4e6b-86fd-06bf69506f35",
   "metadata": {},
   "source": [
    "##### Đặt cấu hình con trỏ về mặc định."
   ]
  },
  {
   "cell_type": "markdown",
   "id": "87e4cf94-48f5-4206-b0bb-49613221765f",
   "metadata": {},
   "source": [
    "# Nguyễn Mạnh Dũng"
   ]
  },
  {
   "cell_type": "markdown",
   "id": "a58b8512-ce41-4141-8566-dfa62b65e661",
   "metadata": {},
   "source": [
    "### Nội dung trình bày:"
   ]
  },
  {
   "cell_type": "markdown",
   "id": "17bf3db0-c04b-4ceb-bd6e-6e002829dbfa",
   "metadata": {},
   "source": [
    "##### Tạo 1 đối tượng kiểu turtle."
   ]
  },
  {
   "cell_type": "markdown",
   "id": "1f2c4495-c217-4111-b737-6f23c19ffab3",
   "metadata": {},
   "source": [
    "##### Nhấc bút lên."
   ]
  },
  {
   "cell_type": "markdown",
   "id": "19187aee-c916-47b5-b014-98628aad7b53",
   "metadata": {},
   "source": [
    "##### Hạ bút xuống."
   ]
  },
  {
   "cell_type": "markdown",
   "id": "b312e79b-e2a3-4ddd-84fe-d1e0df8a31a6",
   "metadata": {},
   "source": [
    "##### Di chuyển tới - lùi"
   ]
  },
  {
   "cell_type": "markdown",
   "id": "94fcf790-0e25-4b1a-97a7-b174ec5257ed",
   "metadata": {},
   "source": [
    "##### Đổi hướng trái - phải"
   ]
  },
  {
   "cell_type": "markdown",
   "id": "8a35a9c3-e97d-4676-883c-97c5f755f363",
   "metadata": {},
   "source": [
    "##### ..."
   ]
  },
  {
   "cell_type": "markdown",
   "id": "c6362a55-2077-4803-a845-3e927c71dbcf",
   "metadata": {},
   "source": [
    "##### Hiển thị kết quả"
   ]
  },
  {
   "cell_type": "markdown",
   "id": "422b73d9-02ed-4b87-8ce5-975a66cd3dc8",
   "metadata": {},
   "source": [
    "# Huỳnh Lưu Trung"
   ]
  },
  {
   "cell_type": "markdown",
   "id": "fad260b2-d008-4bc7-892b-b76164e4794d",
   "metadata": {},
   "source": [
    "### Nội dung trình bày:"
   ]
  },
  {
   "cell_type": "markdown",
   "id": "88725c5d-7755-46f8-8eae-e2906bdc3311",
   "metadata": {},
   "source": [
    "#### Vẽ ngôi nhà mơ ước"
   ]
  },
  {
   "cell_type": "markdown",
   "id": "0b96cfb9-13ea-4ee7-ac17-ecfbb573f3e2",
   "metadata": {},
   "source": [
    "#### turtle.done() Bị lỗi khi chạy trên notebook, khắc phục bằng cách bấm restart the kernel (mũi tên cong kế nút vuông)"
   ]
  },
  {
   "cell_type": "code",
   "execution_count": 1,
   "id": "5009661a-b151-4b70-b953-a08077a27caf",
   "metadata": {},
   "outputs": [],
   "source": [
    "import turtle\n",
    "import numpy\n",
    "#######################\n",
    "#khởi tạo con rùa t; ẩn con rùa t   ;Tốc độ vẽ nhanh tối đa\n",
    "t = turtle.Turtle(); t.hideturtle() ;t.speed(0)\n",
    "\n",
    "def draw_trapezoid(base1, base2, height, OutLineColor, FillColor, PenSize, x, y):#base1 là đáy lớn; x,y : toạ độ bên trái đáy lớn.\n",
    "    # Thiết lập các thuộc tính hình thức\n",
    "    t.color(OutLineColor)\n",
    "    t.fillcolor(FillColor)\n",
    "    t.pensize(PenSize)\n",
    "\n",
    "    # Di chuyển rùa đến vị trí bắt đầu vẽ\n",
    "    t.penup()\n",
    "    t.goto(x, y)\n",
    "    t.pendown()    \n",
    "\n",
    "    # Bắt đầu tô màu\n",
    "    t.begin_fill()\n",
    "\n",
    "    # Vẽ hình thang cân\n",
    "    a=numpy.arctan(2*height/(base1-base2)) #tính góc\n",
    "    a=abs(numpy.degrees(a))\n",
    "    t.forward(base1)    \n",
    "    t.left(180-a)\n",
    "    huyen=( ((base1-base2)/2)**2 + height**2 )**(0.5)\n",
    "    t.forward(huyen)\n",
    "    t.left(a)\n",
    "    t.forward(base2)\n",
    "    t.left(a)\n",
    "    t.forward(huyen)\n",
    "    t.left(180-a)## Để con trỏ luôn hướng phải sau khi vẽ xong.\n",
    "\n",
    "    # Kết thúc tô màu\n",
    "    t.end_fill()\n",
    "\n",
    "    # Kết thúc chương trình\n",
    "    #turtle.done()\n",
    "\n",
    "####################################################################################\n",
    "\n",
    "def draw_rectangle(OutLineColor, FillColor, PenSize, Height, Width, x, y):\n",
    "    # Thiết lập các thuộc tính hình thức\n",
    "    t.color(OutLineColor)\n",
    "    t.fillcolor(FillColor)\n",
    "    t.pensize(PenSize)\n",
    "    \n",
    "    # Di chuyển rùa đến vị trí bắt đầu vẽ\n",
    "    t.penup()\n",
    "    t.goto(x, y)\n",
    "    t.pendown()\n",
    "    \n",
    "    # Bắt đầu tô màu\n",
    "    t.begin_fill()\n",
    "    \n",
    "    # Vẽ hình chữ nhật\n",
    "    for _ in range(2):\n",
    "        t.forward(Width)\n",
    "        t.right(90)\n",
    "        t.forward(Height)\n",
    "        t.right(90)\n",
    "    \n",
    "    # Kết thúc tô màu\n",
    "    t.end_fill()\n",
    "    \n",
    "#Hàm vẽ cây thông\n",
    "def draw_pine(width_tree,height_tree,x,y):#x, y là toạ độ gốc dưới bên trái của cây thông (điểm xám thấp nhất, bên trái)\n",
    "    height_top=height_tree//11\n",
    "    height_middle=height_top*2\n",
    "    height_bottom=height_top*3\n",
    "    height_root=height_top*5\n",
    "    width_root_top=height_top\n",
    "    width_root_bottom=int(width_tree*0.4)\n",
    "    width_bottom=width_tree\n",
    "    width_middle=int(width_tree*0.8)\n",
    "    width_top=int(width_tree*0.6)\n",
    "    draw_trapezoid(width_root_bottom, width_root_top, height_root, \"#808080\", \"#808080\", 3, x, y) #chân cây thông\n",
    "    draw_trapezoid(width_bottom, 0, height_bottom, \"#4E6028\", \"#4E6028\", 3, x+width_root_bottom//2-width_bottom//2, y+height_root) # tán dưới\n",
    "    draw_trapezoid(width_middle, 0, height_middle, \"#76923C\", \"#76923C\", 3, x+width_root_bottom//2-width_middle//2, y+height_root+height_bottom) # tán giữa\n",
    "    draw_trapezoid(width_top, 0, height_top, \"#C2D59B\", \"#C2D59B\", 3, x+width_root_bottom//2-width_top//2, y+height_root+height_bottom+height_middle) # tán trên\n",
    "    \n",
    "\n",
    "#Hàm vẽ nhà\n",
    "def draw_house(line_house,fill_house,line_size,height,width, x, y,line_door,fill_door):\n",
    "    # Sử dụng hàm để vẽ tường và cửa\n",
    "    #draw_rectangle(\"blue\", \"white\", 3, 150, 250, -150, 0)\n",
    "    draw_rectangle(line_house, fill_house, line_size, height, width, x, y)\n",
    "    #draw_rectangle(\"brown\", \"white\", 3, 90, 50, -50, -50)\n",
    "    height_door=int(height*0.6)\n",
    "    width_door=int(width*0.2)\n",
    "    x_door=x + (width-width_door)//2\n",
    "    y_door=y - (height-height_door)*5//6\n",
    "    draw_rectangle(line_door, fill_door, line_size, height_door, width_door, x_door, y_door)\n",
    "\n",
    "    # Vẽ ống khói\n",
    "    y_chimney=y+int(height*0.2)\n",
    "    draw_rectangle(line_house, \"grey\", line_size, -1*height_door//2, width_door//2, x_door, y_chimney)\n",
    "\n",
    "    #vẽ mái nhà\n",
    "    ###Chuẩn bị\n",
    "    # t.pensize(3)\n",
    "    t.pencolor(line_house)\n",
    "    # t.fillcolor(fill_house)\n",
    "    t.fillcolor(\"brown\")\n",
    "\n",
    "    ###Đưa bút vào vị trí\n",
    "    t.penup()\n",
    "    t.goto(x, y)\n",
    "\n",
    "    ###Bắt đầu vẽ mái nhà\n",
    "    t.pendown()\n",
    "    t.begin_fill()\n",
    "    t.left(45)\n",
    "    t.forward(int(width*0.46))\n",
    "    t.right(90)\n",
    "    t.forward(int(width*0.46))\n",
    "    t.left(45)\n",
    "    t.end_fill()\n",
    "\n",
    "    #vẽ khói\n",
    "    draw_rectangle(\"gray\", \"gray\", 1, -1*height_door//2, 1, x_door+(width_door//2)*8//10,10+y_chimney+height_door//2)\n",
    "    draw_rectangle(\"gray\", \"white\", 1, -1*height_door//3, 1,x_door + width_door//10      ,10+y_chimney+height_door//2)\n",
    "\n",
    "def dat_con_rua(rua,x,y):\n",
    "    rua.hideturtle()\n",
    "    rua.penup()\n",
    "    rua.goto(x,y)\n",
    "    rua.pendown()\n",
    "#Vẽ mặt trời\n",
    "def draw_sun(x,y):\n",
    "    #dat_con_rua(t,215,135)\n",
    "    dat_con_rua(t,x,y)\n",
    "    t.color(\"red\",\"yellow\")\n",
    "    t.pensize(5)\n",
    "    t.begin_fill()\n",
    "    t.circle(50)\n",
    "    t.end_fill()\n",
    "    t.color(\"black\")\n",
    "#################################################################################\n",
    "#Bắt đầu main\n",
    "#################################################################################\n",
    "ngang=40;cao=60;toa_do_x=-300;toa_do_y=210\n",
    "for row in range(6):\n",
    "    ngang+=3*row\n",
    "    cao+=6*row\n",
    "    toa_do_x=-300+40*(row%2)\n",
    "    for tree in range(7-row):\n",
    "        draw_pine(ngang,cao,toa_do_x, toa_do_y)\n",
    "        toa_do_x+=ngang+20\n",
    "    toa_do_y-=cao\n",
    "# Vẽ nhà\n",
    "draw_house(\"blue\", \"#00A2E8\", 3, 150, 250, -70, 0,\"red\", \"#C3C3C3\")\n",
    "#draw_pine(ngang,cao,toa_do_x, toa_do_y+cao);\n",
    "draw_pine(160,240,185,-250)\n",
    "draw_sun(215,135)\n",
    "#################################################################################\n",
    "#Kết thúc main\n",
    "#################################################################################\n",
    "# Kết thúc chương trình\n",
    "turtle.done() #Bị lỗi khi chạy trên notebook, khắc phục bằng cách bấm restart the kernel (mũi tên cong kế nút vuông)"
   ]
  }
 ],
 "metadata": {
  "kernelspec": {
   "display_name": "Python 3 (ipykernel)",
   "language": "python",
   "name": "python3"
  },
  "language_info": {
   "codemirror_mode": {
    "name": "ipython",
    "version": 3
   },
   "file_extension": ".py",
   "mimetype": "text/x-python",
   "name": "python",
   "nbconvert_exporter": "python",
   "pygments_lexer": "ipython3",
   "version": "3.11.3"
  }
 },
 "nbformat": 4,
 "nbformat_minor": 5
}
